{
 "cells": [
  {
   "cell_type": "markdown",
   "metadata": {},
   "source": [
    "### Dict:\n",
    "> 1. Test Line\n",
    "\n",
    "> - Another line "
   ]
  },
  {
   "cell_type": "markdown",
   "metadata": {},
   "source": [
    "### Dict :\n",
    "> - {\"name\":\"abc\",\"email\":\"abc@gmail\"}\n",
    "> - mutable = > add ,update and delete \n",
    "> - unordered => not support indexing and slicing \n",
    "> - all the keys should be unique \n",
    "> - all the keys should be immutable => int,float,str,tuple "
   ]
  },
  {
   "cell_type": "code",
   "execution_count": 3,
   "metadata": {},
   "outputs": [
    {
     "name": "stdout",
     "output_type": "stream",
     "text": [
      "{'name': 'PQR', 'email': 'abc@gmail.com', 'contact': '91234566788'}\n"
     ]
    }
   ],
   "source": [
    "d = {\"name\":\"ABC\",\"email\":\"abc@gmail.com\",\"contact\":\"91234566788\",\"name\":\"PQR\"}\n",
    "print(d)"
   ]
  },
  {
   "cell_type": "code",
   "execution_count": null,
   "metadata": {},
   "outputs": [],
   "source": [
    "l = [10,20,30,40,50]\n",
    "\n",
    "hash('name') = > hash index =>5 \n",
    " => 2\n",
    "index key value ref \n",
    "2     email    80055\n",
    "\n",
    "3     name     50007\n",
    "\n"
   ]
  },
  {
   "cell_type": "code",
   "execution_count": 12,
   "metadata": {},
   "outputs": [
    {
     "name": "stdout",
     "output_type": "stream",
     "text": [
      "['ABC', 'Pqr']\n",
      "{'name': ['ABC', 'Pqr', 'XYZ'], 'email': 'abc@gmail.com', 'contact': '91234566788'}\n"
     ]
    }
   ],
   "source": [
    "d = {\"name\":[\"ABC\",\"Pqr\"],\"email\":\"abc@gmail.com\",\"contact\":\"91234566788\"}\n",
    "print(d[\"name\"])\n",
    "d[\"name\"].append(\"XYZ\")\n",
    "print(d)"
   ]
  },
  {
   "cell_type": "code",
   "execution_count": 29,
   "metadata": {},
   "outputs": [
    {
     "name": "stdout",
     "output_type": "stream",
     "text": [
      "None\n",
      "{'name': 'ABC', 'email': 'abc@gmail.com', 'contact': '91234566788', 'age': None}\n"
     ]
    }
   ],
   "source": [
    "d = {\"name\":\"ABC\",\"email\":\"abc@gmail.com\",\"contact\":\"91234566788\"}\n",
    "# print(d['name'])\n",
    "# print(d.get(\"age\",-1))\n",
    "print(d.setdefault(\"age\",20))\n",
    "print(d)"
   ]
  },
  {
   "cell_type": "code",
   "execution_count": 33,
   "metadata": {},
   "outputs": [
    {
     "name": "stdout",
     "output_type": "stream",
     "text": [
      "{'name': 'ABC', 'email': 'abc@gmail.com', 'contact': '91234566788', 'age': 25}\n",
      "{'name': 'ABC', 'email': 'abc@gmail.com', 'contact': '91234566788', 'age': 30}\n"
     ]
    }
   ],
   "source": [
    "d = {\"name\":\"ABC\",\"email\":\"abc@gmail.com\",\"contact\":\"91234566788\"}\n",
    "d['age'] = 25\n",
    "print(d)\n",
    "\n",
    "d['age'] = 30\n",
    "print(d)"
   ]
  },
  {
   "cell_type": "code",
   "execution_count": 34,
   "metadata": {},
   "outputs": [
    {
     "name": "stdout",
     "output_type": "stream",
     "text": [
      "{1: 1, 2: 4, 3: 9, 4: 16, 5: 25, 6: 36, 7: 49, 8: 64, 9: 81, 10: 100, 11: 121, 12: 144, 13: 169, 14: 196, 15: 225}\n"
     ]
    }
   ],
   "source": [
    "d = {}\n",
    "for key in range(1,16):\n",
    "    d.setdefault(key,key * key)\n",
    "print(d)"
   ]
  },
  {
   "cell_type": "code",
   "execution_count": 35,
   "metadata": {},
   "outputs": [
    {
     "name": "stdout",
     "output_type": "stream",
     "text": [
      "{'a': 97, 'b': 98, 'c': 99, 'd': 100, 'e': 101, 'f': 102, 'g': 103, 'h': 104, 'i': 105, 'j': 106, 'k': 107, 'l': 108, 'm': 109, 'n': 110, 'o': 111, 'p': 112, 'q': 113, 'r': 114, 's': 115, 't': 116, 'u': 117, 'v': 118, 'w': 119, 'x': 120, 'y': 121, 'z': 122}\n"
     ]
    }
   ],
   "source": [
    "d = {}\n",
    "for value in range(ord('a'),ord('z')+1):\n",
    "    d.setdefault(chr(value),value)\n",
    "print(d)"
   ]
  },
  {
   "cell_type": "code",
   "execution_count": 46,
   "metadata": {},
   "outputs": [
    {
     "name": "stdout",
     "output_type": "stream",
     "text": [
      "{(1, 10): 1, (11, 20): 3, (21, 30): 1, (31, 40): 0, (41, 50): 1, (51, 60): 0, (61, 70): 0, (71, 80): 1, (81, 90): 0, (91, 100): 1}\n"
     ]
    }
   ],
   "source": [
    "# d = {(1,10):0,(11,20):0,(21,30):0......(91,100):0}\n",
    "d = {}\n",
    "l1 = list(range(1,92,10))\n",
    "l2 = list(range(10,101,10))\n",
    "# print(l1)\n",
    "# print(l2)\n",
    "\n",
    "l3 = list(zip(l1,l2))\n",
    "# print(l3)\n",
    "\n",
    "for key in l3:\n",
    "    d.setdefault(key,0)\n",
    "# print(d)\n",
    "\n",
    "l = [10,15,45,20,14,78,96,25]\n",
    "for num in l:\n",
    "    for key in d:\n",
    "        if num >= key[0] and num <= key[1]:\n",
    "            d[key] = d[key] + 1\n",
    "print(d)"
   ]
  },
  {
   "cell_type": "code",
   "execution_count": 50,
   "metadata": {},
   "outputs": [
    {
     "name": "stdout",
     "output_type": "stream",
     "text": [
      "name ABC\n",
      "email abc@gmail.com\n",
      "contact 91234566788\n"
     ]
    }
   ],
   "source": [
    "d = {\"name\":\"ABC\",\"email\":\"abc@gmail.com\",\"contact\":\"91234566788\"}\n",
    "# print(d.keys())\n",
    "# print(d.values())\n",
    "# print(d.items())\n",
    "\n",
    "for key,value in d.items():\n",
    "    print(key,value)"
   ]
  },
  {
   "cell_type": "code",
   "execution_count": 62,
   "metadata": {},
   "outputs": [
    {
     "name": "stdout",
     "output_type": "stream",
     "text": [
      "{'ABC': 4.2, 'PQR': 4.4, 'XYZ': 4.2}\n"
     ]
    }
   ],
   "source": [
    "d = {\"ABC\":\"5,5,4,3,4\",\"PQR\":\"4,4,4,5,5\",\"XYZ\":\"5,5,5,3,3\"}\n",
    "# d2 = {\"ABC\":4.8,\"PQR\":4.3,\"XYZ\":4.9}\n",
    "d2 = {}\n",
    "for key,value in d.items():\n",
    "#     print(value)\n",
    "    reviews = value.split(\",\")\n",
    "#     print(reviews)\n",
    "    sum = 0\n",
    "    for review in reviews:\n",
    "        sum = sum + int(review)\n",
    "    d2.setdefault(key,round(sum / 5,2))\n",
    "print(d2)"
   ]
  },
  {
   "cell_type": "code",
   "execution_count": 65,
   "metadata": {},
   "outputs": [
    {
     "data": {
      "text/plain": [
       "13.556"
      ]
     },
     "execution_count": 65,
     "metadata": {},
     "output_type": "execute_result"
    }
   ],
   "source": [
    "round(13.55555,3)"
   ]
  },
  {
   "cell_type": "code",
   "execution_count": null,
   "metadata": {},
   "outputs": [],
   "source": [
    "delete :\n",
    "    popitem => 3.7 del tha last key and value pair  \n",
    "    pop => spcific key and value , value \n",
    "    clear  => empty dict \n",
    "    del  => del ref "
   ]
  },
  {
   "cell_type": "code",
   "execution_count": 74,
   "metadata": {},
   "outputs": [
    {
     "name": "stdout",
     "output_type": "stream",
     "text": [
      "{'email': 'abc@gmail.com', 'contact': '91234566788'} ABC\n",
      "{}\n"
     ]
    },
    {
     "ename": "NameError",
     "evalue": "name 'd' is not defined",
     "output_type": "error",
     "traceback": [
      "\u001b[1;31m---------------------------------------------------------------------------\u001b[0m",
      "\u001b[1;31mNameError\u001b[0m                                 Traceback (most recent call last)",
      "\u001b[1;32m<ipython-input-74-d27e8af66351>\u001b[0m in \u001b[0;36m<module>\u001b[1;34m()\u001b[0m\n\u001b[0;32m     11\u001b[0m \u001b[1;33m\u001b[0m\u001b[0m\n\u001b[0;32m     12\u001b[0m \u001b[1;32mdel\u001b[0m \u001b[0md\u001b[0m\u001b[1;33m\u001b[0m\u001b[0m\n\u001b[1;32m---> 13\u001b[1;33m \u001b[0mprint\u001b[0m\u001b[1;33m(\u001b[0m\u001b[0md\u001b[0m\u001b[1;33m)\u001b[0m\u001b[1;33m\u001b[0m\u001b[0m\n\u001b[0m",
      "\u001b[1;31mNameError\u001b[0m: name 'd' is not defined"
     ]
    }
   ],
   "source": [
    "d = {\"name\":\"ABC\",\"email\":\"abc@gmail.com\",\"contact\":\"91234566788\"}\n",
    "# r = d.popitem()\n",
    "# print(d)\n",
    "# print(r)\n",
    "\n",
    "r = d.pop(\"name\")\n",
    "print(d,r)\n",
    "\n",
    "d.clear()\n",
    "print(d)\n",
    "\n",
    "del d\n",
    "print(d)"
   ]
  },
  {
   "cell_type": "code",
   "execution_count": null,
   "metadata": {},
   "outputs": [],
   "source": []
  },
  {
   "cell_type": "code",
   "execution_count": 67,
   "metadata": {},
   "outputs": [
    {
     "name": "stdout",
     "output_type": "stream",
     "text": [
      "Help on method_descriptor:\n",
      "\n",
      "popitem(...)\n",
      "    D.popitem() -> (k, v), remove and return some (key, value) pair as a\n",
      "    2-tuple; but raise KeyError if D is empty.\n",
      "\n"
     ]
    }
   ],
   "source": [
    "help(dict.popitem)"
   ]
  },
  {
   "cell_type": "code",
   "execution_count": 75,
   "metadata": {},
   "outputs": [
    {
     "name": "stdout",
     "output_type": "stream",
     "text": [
      "{1: 1, 2: 4, 3: 9, 4: 16, 5: 25, 6: 36}\n"
     ]
    }
   ],
   "source": [
    "l1 = [1,2,3,4,5,6]\n",
    "l2 = [1,4,9,16,25,36]\n",
    "d = dict(zip(l1,l2))\n",
    "print(d)"
   ]
  },
  {
   "cell_type": "code",
   "execution_count": 80,
   "metadata": {},
   "outputs": [
    {
     "name": "stdout",
     "output_type": "stream",
     "text": [
      "{10: 0, 20: 0, 30: 0, 40: 0, 50: 0}\n"
     ]
    }
   ],
   "source": [
    "l = [10,20,30,40,50]\n",
    "d = dict.fromkeys(l,0)\n",
    "print(d)"
   ]
  },
  {
   "cell_type": "code",
   "execution_count": 85,
   "metadata": {},
   "outputs": [
    {
     "name": "stdout",
     "output_type": "stream",
     "text": [
      "{1: 1, 2: 4, 3: 9, 4: 16, 5: 25}\n"
     ]
    }
   ],
   "source": [
    "d1 = {1:1,2:4,3:9}\n",
    "d2 = {4:16,5:25}\n",
    "d1.update(d2)\n",
    "print(d1)"
   ]
  },
  {
   "cell_type": "code",
   "execution_count": 87,
   "metadata": {},
   "outputs": [
    {
     "ename": "TypeError",
     "evalue": "unsupported operand type(s) for +: 'dict' and 'dict'",
     "output_type": "error",
     "traceback": [
      "\u001b[1;31m---------------------------------------------------------------------------\u001b[0m",
      "\u001b[1;31mTypeError\u001b[0m                                 Traceback (most recent call last)",
      "\u001b[1;32m<ipython-input-87-026416c69e7d>\u001b[0m in \u001b[0;36m<module>\u001b[1;34m()\u001b[0m\n\u001b[0;32m      1\u001b[0m \u001b[0md1\u001b[0m \u001b[1;33m=\u001b[0m \u001b[1;33m{\u001b[0m\u001b[1;36m1\u001b[0m\u001b[1;33m:\u001b[0m\u001b[1;36m1\u001b[0m\u001b[1;33m,\u001b[0m\u001b[1;36m2\u001b[0m\u001b[1;33m:\u001b[0m\u001b[1;36m4\u001b[0m\u001b[1;33m,\u001b[0m\u001b[1;36m3\u001b[0m\u001b[1;33m:\u001b[0m\u001b[1;36m9\u001b[0m\u001b[1;33m}\u001b[0m\u001b[1;33m\u001b[0m\u001b[0m\n\u001b[0;32m      2\u001b[0m \u001b[0md2\u001b[0m \u001b[1;33m=\u001b[0m \u001b[1;33m{\u001b[0m\u001b[1;36m4\u001b[0m\u001b[1;33m:\u001b[0m\u001b[1;36m16\u001b[0m\u001b[1;33m,\u001b[0m\u001b[1;36m5\u001b[0m\u001b[1;33m:\u001b[0m\u001b[1;36m25\u001b[0m\u001b[1;33m}\u001b[0m\u001b[1;33m\u001b[0m\u001b[0m\n\u001b[1;32m----> 3\u001b[1;33m \u001b[0mprint\u001b[0m\u001b[1;33m(\u001b[0m\u001b[0md1\u001b[0m \u001b[1;33m+\u001b[0m \u001b[0md2\u001b[0m\u001b[1;33m)\u001b[0m\u001b[1;33m\u001b[0m\u001b[0m\n\u001b[0m",
      "\u001b[1;31mTypeError\u001b[0m: unsupported operand type(s) for +: 'dict' and 'dict'"
     ]
    }
   ],
   "source": [
    "d1 = {1:1,2:4,3:9}\n",
    "d2 = {4:16,5:25}\n",
    "print(d1 + d2)"
   ]
  },
  {
   "cell_type": "markdown",
   "metadata": {},
   "source": [
    "### Set :\n",
    "\n",
    "> {10,20,30}\n",
    "> all the elements in set should be unique \n",
    "> all the elements should be immutable int,float,str,tuple \n",
    "> unordered => not support  indexing and slicing \n",
    "> mutable = > add upadte and delete \n",
    "\n",
    "{10:None,20:None,30:None}"
   ]
  },
  {
   "cell_type": "code",
   "execution_count": 93,
   "metadata": {},
   "outputs": [
    {
     "name": "stdout",
     "output_type": "stream",
     "text": [
      "{40, 10, 50, 20, 30}\n"
     ]
    }
   ],
   "source": [
    "s = {10,20,30,40,50,40,10,20,30,40}\n",
    "print((s))"
   ]
  },
  {
   "cell_type": "code",
   "execution_count": 92,
   "metadata": {},
   "outputs": [
    {
     "name": "stdout",
     "output_type": "stream",
     "text": [
      "<class 'set'>\n"
     ]
    }
   ],
   "source": [
    "s = set({})\n",
    "print(type(s))"
   ]
  },
  {
   "cell_type": "code",
   "execution_count": 100,
   "metadata": {},
   "outputs": [
    {
     "name": "stdout",
     "output_type": "stream",
     "text": [
      "{80, 20, 70, 10, 30}\n"
     ]
    }
   ],
   "source": [
    "s1 = {10,20,30,40,50,60}\n",
    "s2 = {40,50,60,70,80}\n",
    "\n",
    "# s3 = s1.union(s2)\n",
    "# print(s3)\n",
    "\n",
    "\n",
    "# s3 = s1.intersection(s2)\n",
    "# print(s3)\n",
    "\n",
    "# s3 = s2.difference(s1)\n",
    "# print(s3)\n",
    "\n",
    "# s3 = s1.symmetric_difference(s2)\n",
    "# print(s3)"
   ]
  },
  {
   "cell_type": "code",
   "execution_count": 104,
   "metadata": {},
   "outputs": [
    {
     "name": "stdout",
     "output_type": "stream",
     "text": [
      "{70, 10, 80, 20, 30}\n"
     ]
    }
   ],
   "source": [
    "s1 = {10,20,30,40,50,60}\n",
    "s2 = {40,50,60,70,80}\n",
    "\n",
    "# s1.update(s2)\n",
    "# print(s1)\n",
    "\n",
    "s1.symmetric_difference_update(s2)\n",
    "print(s1)\n"
   ]
  },
  {
   "cell_type": "code",
   "execution_count": 106,
   "metadata": {},
   "outputs": [
    {
     "name": "stdout",
     "output_type": "stream",
     "text": [
      "{40, 10, 50, 20, 60, 30}\n",
      "[40, 10, 50, 20, 60, 30]\n"
     ]
    }
   ],
   "source": [
    "l = [10,20,30,40,50,50,50,60]\n",
    "s = set(l)\n",
    "print(s)\n",
    "l2 = list(s)\n",
    "print(l2)"
   ]
  },
  {
   "cell_type": "code",
   "execution_count": 109,
   "metadata": {},
   "outputs": [
    {
     "name": "stdout",
     "output_type": "stream",
     "text": [
      "[10, 20, 24, 25, 41, 45, 52, 65, 78, 85]\n"
     ]
    }
   ],
   "source": [
    "l1 = [10,20,45,85,41,24,52,65]\n",
    "l2 = [20,25,45,78,41,52,65]\n",
    "\n",
    "# s1 = set(l1)\n",
    "# s2 = set(l2)\n",
    "\n",
    "# s1.update(s2)\n",
    "# l3 = sorted(s1)\n",
    "# print(l3)\n",
    "\n",
    "s3 = set(l1).union(set(l2))\n",
    "print(sorted(s3))\n",
    "\n"
   ]
  },
  {
   "cell_type": "code",
   "execution_count": null,
   "metadata": {},
   "outputs": [],
   "source": [
    "delete :\n",
    "    pop \n",
    "    remove \n",
    "    discard\n",
    "    clear \n",
    "    del "
   ]
  },
  {
   "cell_type": "code",
   "execution_count": 115,
   "metadata": {},
   "outputs": [
    {
     "name": "stdout",
     "output_type": "stream",
     "text": [
      "{70, 10, 50, 20, 60, 30}\n",
      "{70, 10, 50, 20, 60, 30}\n",
      "set()\n"
     ]
    }
   ],
   "source": [
    "s = {10,20,30,40,50,60,70}\n",
    "# r = s.pop()\n",
    "# print(s,r)\n",
    "\n",
    "s.remove(40)\n",
    "print(s)\n",
    "\n",
    "s.discard(50)\n",
    "print(s)\n",
    "\n",
    "s.clear()\n",
    "print(s)\n",
    "\n",
    "\n",
    "del s\n"
   ]
  },
  {
   "cell_type": "code",
   "execution_count": null,
   "metadata": {},
   "outputs": [],
   "source": [
    "User Defined functions \n",
    "\n"
   ]
  },
  {
   "cell_type": "code",
   "execution_count": 116,
   "metadata": {},
   "outputs": [
    {
     "name": "stdout",
     "output_type": "stream",
     "text": [
      "0\n"
     ]
    }
   ],
   "source": [
    "s = \"Python sample string\"\n",
    "print(s.index(\"P\"))"
   ]
  },
  {
   "cell_type": "code",
   "execution_count": null,
   "metadata": {},
   "outputs": [],
   "source": [
    "fun def \n",
    "fun call "
   ]
  },
  {
   "cell_type": "code",
   "execution_count": 129,
   "metadata": {},
   "outputs": [
    {
     "name": "stdout",
     "output_type": "stream",
     "text": [
      "100 200\n",
      "300\n",
      "10 0\n",
      "10\n"
     ]
    }
   ],
   "source": [
    "\n",
    "def add(num1 = 0,num2 = 0):\n",
    "    print(num1,num2)\n",
    "    num3 = num1 + num2\n",
    "    return num3\n",
    "\n",
    "\n",
    "a = 100\n",
    "b = 200\n",
    "r = add(a,b)\n",
    "print(r)\n",
    "\n",
    "r = add(10)\n",
    "print(r)\n",
    "\n",
    "\n",
    "# r = add(100,\"java\")\n",
    "# print(r)\n",
    "\n",
    "# r = add([10,20,30,40],[45,20,45,30])\n",
    "# print(r)\n",
    "\n"
   ]
  },
  {
   "cell_type": "code",
   "execution_count": 124,
   "metadata": {},
   "outputs": [
    {
     "name": "stdout",
     "output_type": "stream",
     "text": [
      "77\n"
     ]
    }
   ],
   "source": [
    "def sec_max(l):\n",
    "    s = set(l)\n",
    "    l2 = sorted(s)\n",
    "    return l2[-2]\n",
    "\n",
    "l = [10,45,77,85,45,10,10,45,85,65,65]\n",
    "print(sec_max(l))\n",
    "\n",
    "\n",
    "l = [10,45,77,85]\n",
    "print(sec_max(l))\n",
    "\n"
   ]
  },
  {
   "cell_type": "code",
   "execution_count": null,
   "metadata": {},
   "outputs": [],
   "source": [
    "Paramter passing techniques :\n",
    "    1. Positional args\n",
    "    2. default args \n",
    "    3. Variable legth positional \n",
    "    4. keyword args\n",
    "    5. Variable length keyword args \n",
    "    6. Unpacking "
   ]
  },
  {
   "cell_type": "code",
   "execution_count": 131,
   "metadata": {},
   "outputs": [
    {
     "name": "stdout",
     "output_type": "stream",
     "text": [
      "10 20 Hello\n",
      "Help on built-in function print in module builtins:\n",
      "\n",
      "print(...)\n",
      "    print(value, ..., sep=' ', end='\\n', file=sys.stdout, flush=False)\n",
      "    \n",
      "    Prints the values to a stream, or to sys.stdout by default.\n",
      "    Optional keyword arguments:\n",
      "    file:  a file-like object (stream); defaults to the current sys.stdout.\n",
      "    sep:   string inserted between values, default a space.\n",
      "    end:   string appended after the last value, default a newline.\n",
      "    flush: whether to forcibly flush the stream.\n",
      "\n"
     ]
    }
   ],
   "source": [
    "print(10,20,end = \" \")\n",
    "print(\"Hello\")\n",
    "help(print)\n",
    "\n",
    "pass_gen() = >8 \n",
    "pass_gen(5) = >5 \n"
   ]
  },
  {
   "cell_type": "code",
   "execution_count": 2,
   "metadata": {},
   "outputs": [
    {
     "name": "stdout",
     "output_type": "stream",
     "text": [
      "210\n"
     ]
    },
    {
     "data": {
      "text/plain": [
       "380"
      ]
     },
     "execution_count": 2,
     "metadata": {},
     "output_type": "execute_result"
    }
   ],
   "source": [
    "def add(*args):\n",
    "    return sum(args)\n",
    "\n",
    "print(add(10,20,30,40,50,60))\n",
    "add(10,20,50,60,70,80,90,100,200,300)\n",
    "add(10,20,50,60,70,80,90)\n",
    "\n"
   ]
  },
  {
   "cell_type": "code",
   "execution_count": 8,
   "metadata": {},
   "outputs": [
    {
     "name": "stdout",
     "output_type": "stream",
     "text": [
      "valid\n",
      "valid\n"
     ]
    }
   ],
   "source": [
    "def user_auth(username,password):\n",
    "    if username ==\"abc\" and password ==\"abc@123\":\n",
    "        print(\"valid\")\n",
    "    else:\n",
    "        print(\"Invalid\")\n",
    "        \n",
    "user_auth(\"abc\",\"abc@123\")\n",
    "user_auth(password=\"abc@123\",username=\"abc\")"
   ]
  },
  {
   "cell_type": "code",
   "execution_count": null,
   "metadata": {},
   "outputs": [],
   "source": [
    "username,email,contact,dob\n",
    "username,email,dob\n",
    "username,contact,dob"
   ]
  },
  {
   "cell_type": "code",
   "execution_count": 14,
   "metadata": {},
   "outputs": [
    {
     "name": "stdout",
     "output_type": "stream",
     "text": [
      "(30, 40, 50) {'username': 'abc', 'email': 'abc@gmail.com', 'contact': '9123456789', 'dob': '12-1-2019'}\n"
     ]
    },
    {
     "ename": "TypeError",
     "evalue": "user_detail() missing 2 required positional arguments: 'num1' and 'num2'",
     "output_type": "error",
     "traceback": [
      "\u001b[1;31m---------------------------------------------------------------------------\u001b[0m",
      "\u001b[1;31mTypeError\u001b[0m                                 Traceback (most recent call last)",
      "\u001b[1;32m<ipython-input-14-40a90d913d61>\u001b[0m in \u001b[0;36m<module>\u001b[1;34m()\u001b[0m\n\u001b[0;32m      3\u001b[0m \u001b[1;33m\u001b[0m\u001b[0m\n\u001b[0;32m      4\u001b[0m \u001b[0muser_detail\u001b[0m\u001b[1;33m(\u001b[0m\u001b[1;36m10\u001b[0m\u001b[1;33m,\u001b[0m\u001b[1;36m20\u001b[0m\u001b[1;33m,\u001b[0m\u001b[1;36m30\u001b[0m\u001b[1;33m,\u001b[0m\u001b[1;36m40\u001b[0m\u001b[1;33m,\u001b[0m\u001b[1;36m50\u001b[0m\u001b[1;33m,\u001b[0m\u001b[0musername\u001b[0m \u001b[1;33m=\u001b[0m \u001b[1;34m\"abc\"\u001b[0m\u001b[1;33m,\u001b[0m\u001b[0memail\u001b[0m \u001b[1;33m=\u001b[0m\u001b[1;34m\"abc@gmail.com\"\u001b[0m\u001b[1;33m,\u001b[0m\u001b[0mcontact\u001b[0m\u001b[1;33m=\u001b[0m\u001b[1;34m\"9123456789\"\u001b[0m\u001b[1;33m,\u001b[0m\u001b[0mdob\u001b[0m \u001b[1;33m=\u001b[0m \u001b[1;34m\"12-1-2019\"\u001b[0m\u001b[1;33m)\u001b[0m\u001b[1;33m\u001b[0m\u001b[0m\n\u001b[1;32m----> 5\u001b[1;33m \u001b[0muser_detail\u001b[0m\u001b[1;33m(\u001b[0m\u001b[0musername\u001b[0m \u001b[1;33m=\u001b[0m \u001b[1;34m\"abc\"\u001b[0m\u001b[1;33m,\u001b[0m\u001b[0memail\u001b[0m \u001b[1;33m=\u001b[0m\u001b[1;34m\"abc@gmail.com\"\u001b[0m\u001b[1;33m,\u001b[0m\u001b[0mdob\u001b[0m \u001b[1;33m=\u001b[0m \u001b[1;34m\"12-1-2019\"\u001b[0m\u001b[1;33m)\u001b[0m\u001b[1;33m\u001b[0m\u001b[0m\n\u001b[0m\u001b[0;32m      6\u001b[0m \u001b[0muser_detail\u001b[0m\u001b[1;33m(\u001b[0m\u001b[0musername\u001b[0m \u001b[1;33m=\u001b[0m \u001b[1;34m\"abc\"\u001b[0m\u001b[1;33m,\u001b[0m\u001b[0mcontact\u001b[0m\u001b[1;33m=\u001b[0m\u001b[1;34m\"9123456789\"\u001b[0m\u001b[1;33m,\u001b[0m\u001b[0mdob\u001b[0m \u001b[1;33m=\u001b[0m \u001b[1;34m\"12-1-2019\"\u001b[0m\u001b[1;33m)\u001b[0m\u001b[1;33m\u001b[0m\u001b[0m\n",
      "\u001b[1;31mTypeError\u001b[0m: user_detail() missing 2 required positional arguments: 'num1' and 'num2'"
     ]
    }
   ],
   "source": [
    "def user_detail(num1,num2,*args,**kwargs):\n",
    "    print(args,kwargs)\n",
    "    \n",
    "user_detail(10,20,30,40,50,username = \"abc\",email =\"abc@gmail.com\",contact=\"9123456789\",dob = \"12-1-2019\")\n",
    "user_detail(username = \"abc\",email =\"abc@gmail.com\",dob = \"12-1-2019\")\n",
    "user_detail(username = \"abc\",contact=\"9123456789\",dob = \"12-1-2019\")"
   ]
  },
  {
   "cell_type": "code",
   "execution_count": 23,
   "metadata": {},
   "outputs": [
    {
     "name": "stdout",
     "output_type": "stream",
     "text": [
      "(10, 20, [10, 20, 30, 40])\n"
     ]
    }
   ],
   "source": [
    "def printVal(num1,num2,num3):\n",
    "    return num1,num2,num3\n",
    "    \n",
    "print(printVal(10,20,[10,20,30,40]))\n",
    "\n",
    "\n",
    "# l = [10,20,30]\n",
    "# printVal(*l)\n",
    "\n",
    "\n",
    "# d = {\"num3\":20,\"num1\":78,\"num2\":85}\n",
    "# printVal(**d)\n",
    "\n"
   ]
  },
  {
   "cell_type": "code",
   "execution_count": 24,
   "metadata": {},
   "outputs": [
    {
     "name": "stdout",
     "output_type": "stream",
     "text": [
      "100\n"
     ]
    }
   ],
   "source": [
    "def printVal():\n",
    "    print(num1)\n",
    "    \n",
    "num1 = 100\n",
    "printVal()"
   ]
  },
  {
   "cell_type": "code",
   "execution_count": 26,
   "metadata": {},
   "outputs": [
    {
     "ename": "NameError",
     "evalue": "name 'num8' is not defined",
     "output_type": "error",
     "traceback": [
      "\u001b[1;31m---------------------------------------------------------------------------\u001b[0m",
      "\u001b[1;31mNameError\u001b[0m                                 Traceback (most recent call last)",
      "\u001b[1;32m<ipython-input-26-a8037de8dd14>\u001b[0m in \u001b[0;36m<module>\u001b[1;34m()\u001b[0m\n\u001b[0;32m      4\u001b[0m \u001b[1;31m# num1 = 100\u001b[0m\u001b[1;33m\u001b[0m\u001b[1;33m\u001b[0m\u001b[0m\n\u001b[0;32m      5\u001b[0m \u001b[0mprintVal\u001b[0m\u001b[1;33m(\u001b[0m\u001b[1;33m)\u001b[0m\u001b[1;33m\u001b[0m\u001b[0m\n\u001b[1;32m----> 6\u001b[1;33m \u001b[0mprint\u001b[0m\u001b[1;33m(\u001b[0m\u001b[0mnum8\u001b[0m\u001b[1;33m)\u001b[0m\u001b[1;33m\u001b[0m\u001b[0m\n\u001b[0m",
      "\u001b[1;31mNameError\u001b[0m: name 'num8' is not defined"
     ]
    }
   ],
   "source": [
    "def printVal():\n",
    "    num8 = 100\n",
    "    \n",
    "# num1 = 100\n",
    "printVal()\n",
    "print(num8)"
   ]
  },
  {
   "cell_type": "code",
   "execution_count": 5,
   "metadata": {},
   "outputs": [
    {
     "name": "stdout",
     "output_type": "stream",
     "text": [
      "100\n",
      "200\n",
      "200\n"
     ]
    }
   ],
   "source": [
    "def printVal():\n",
    "    global n1\n",
    "    print(n1)\n",
    "    n1 = 200\n",
    "    print(n1)\n",
    "    \n",
    "n1 = 100\n",
    "printVal()\n",
    "print(n1)"
   ]
  },
  {
   "cell_type": "code",
   "execution_count": null,
   "metadata": {},
   "outputs": [],
   "source": [
    "fact(5)"
   ]
  },
  {
   "cell_type": "code",
   "execution_count": null,
   "metadata": {},
   "outputs": [],
   "source": [
    "5! = 5 * 4!\n",
    "     5  * 4 *  3!\n",
    "    5 * 4 * 3 * 2!\n",
    "    5 * 4 * 3 * 2 * 1!\n",
    "    5 * 4 * 3 * 2 * 1 "
   ]
  },
  {
   "cell_type": "code",
   "execution_count": 6,
   "metadata": {},
   "outputs": [
    {
     "name": "stdout",
     "output_type": "stream",
     "text": [
      "120\n"
     ]
    }
   ],
   "source": [
    "def fact(num):\n",
    "    if num == 1:\n",
    "        return 1\n",
    "    else: \n",
    "        return num * fact(num -1)\n",
    "\n",
    "print(fact(5))"
   ]
  },
  {
   "cell_type": "code",
   "execution_count": null,
   "metadata": {},
   "outputs": [],
   "source": [
    "fact(5) = >return 5 * 24 = 120 \n",
    "              return  4 * 6 = 24 \n",
    "                 retrun 3 * 2 = > 6 \n",
    "                   return  2 * 1 = 2\n",
    "                        return 1 "
   ]
  },
  {
   "cell_type": "code",
   "execution_count": null,
   "metadata": {},
   "outputs": [],
   "source": [
    "l = [10,20,30,40,50,60,70,80]\n",
    "key = 600 \n",
    "\n",
    "mid = 4  50 == key True \n",
    "\n",
    "        if key > mid \n",
    "            l [ 60,70,80] key 60 \n",
    "              mid  = 70 \n",
    "            \n",
    "                        l [ 60] 60 True \n",
    "            \n",
    "    \n",
    "        key < mid "
   ]
  }
 ],
 "metadata": {
  "kernelspec": {
   "display_name": "Python 3",
   "language": "python",
   "name": "python3"
  },
  "language_info": {
   "codemirror_mode": {
    "name": "ipython",
    "version": 3
   },
   "file_extension": ".py",
   "mimetype": "text/x-python",
   "name": "python",
   "nbconvert_exporter": "python",
   "pygments_lexer": "ipython3",
   "version": "3.6.5"
  }
 },
 "nbformat": 4,
 "nbformat_minor": 2
}
